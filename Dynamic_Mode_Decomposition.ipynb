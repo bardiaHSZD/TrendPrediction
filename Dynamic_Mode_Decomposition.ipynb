{
  "nbformat": 4,
  "nbformat_minor": 0,
  "metadata": {
    "colab": {
      "name": "Dynamic_Mode_Decomposition.ipynb",
      "provenance": [],
      "collapsed_sections": [],
      "authorship_tag": "ABX9TyOepFmZRnDF4LYoGZo3+m1f",
      "include_colab_link": true
    },
    "kernelspec": {
      "name": "python3",
      "display_name": "Python 3"
    },
    "language_info": {
      "name": "python"
    }
  },
  "cells": [
    {
      "cell_type": "markdown",
      "metadata": {
        "id": "view-in-github",
        "colab_type": "text"
      },
      "source": [
        "<a href=\"https://colab.research.google.com/github/bardiaHSZD/TrendPrediction/blob/main/Dynamic_Mode_Decomposition.ipynb\" target=\"_parent\"><img src=\"https://colab.research.google.com/assets/colab-badge.svg\" alt=\"Open In Colab\"/></a>"
      ]
    },
    {
      "cell_type": "markdown",
      "metadata": {
        "id": "r2Z7hfxVcBDA"
      },
      "source": [
        "# **Environment Installation**"
      ]
    },
    {
      "cell_type": "code",
      "metadata": {
        "id": "22ZLprVKO9Rd"
      },
      "source": [
        "!apt install octave\n",
        "!apt-get update --fix-missing\n",
        "!apt install octave"
      ],
      "execution_count": null,
      "outputs": []
    },
    {
      "cell_type": "markdown",
      "metadata": {
        "id": "MFCbl39bcIPV"
      },
      "source": [
        "# **Dynamic Mode Decomposition:** Test"
      ]
    },
    {
      "cell_type": "code",
      "metadata": {
        "colab": {
          "base_uri": "https://localhost:8080/"
        },
        "id": "V4q1dtz3Owgz",
        "outputId": "588aac9f-9fcb-40e6-d0c6-4e1b0387ea92"
      },
      "source": [
        "%%writefile dmd_test_01.m\n",
        "\n",
        "clear all;\n",
        "\n",
        "%Quick Test of DMD with control.\n",
        "\n",
        "%Data collection\n",
        "\n",
        "A = [1.5 0;0 0.1];\n",
        "x0 = [4;7];\n",
        "K = [-1];\n",
        "m = 20;\n",
        "DataX = x0;\n",
        "DataU = [0];\n",
        "\n",
        "B = [1;0];\n",
        "\n",
        "for j = 1 : m \n",
        "   \n",
        "  DataX(:,j+1) = A * (DataX(:,j)) + B.*(K*DataX(:,j));\n",
        "  DataU(:,j) = K .* DataX(1,j);\n",
        "end\n",
        "\n",
        "%Data matrices\n",
        "X   = DataX(:,1:end-1);\n",
        "Xp  = DataX(:,2:end);\n",
        "Ups = DataU;\n",
        "\n",
        "%SVD\n",
        "[U,Sig,V] = svd(X,'econ');\n",
        "\n",
        "thresh = 1e-10;\n",
        "r = length(find(diag(Sig)>thresh));\n",
        "\n",
        "U    = U(:,1:r);\n",
        "Sig  = Sig(1:r,1:r);\n",
        "V    = V(:,1:r);\n",
        "\n",
        "%DMD\n",
        "\n",
        "A_DMD  = Xp*V*inv(Sig)*U'\n",
        "\n",
        "%DMDc - B is known \n",
        "\n",
        "A_DMDc = (Xp - B*Ups)*V*inv(Sig)*U'\n",
        "\n",
        "% Extra\n",
        "[W,D] = eig(A_DMDc);\n",
        "\n",
        "Phi = Xp * V * inv(Sig) * U'*U * W\n",
        "\n",
        "% DMD Spectra\n",
        "t = linspace (0,m,m);\n",
        "dt = t(2) - t(1);\n",
        "lambda = diag(D);\n",
        "omega = log(lambda)/dt;\n",
        "\n",
        "% Compute DMD Solution\n",
        "x0 = [4;7];\n",
        "K = [-1];\n",
        "m = 20;\n",
        "DataXdmd = x0;\n",
        "DataUdmd = [0];\n",
        "\n",
        "B = [1.0;0.0];\n",
        "\n",
        "for j = 1 : m   \n",
        "  DataXdmd(:,j+1) = A_DMDc * (DataXdmd(:,j)) + B.*(K*DataXdmd(:,j));\n",
        "  DataUdmd(:,j) = K .* DataXdmd(1,j);\n",
        "end\n",
        "\n",
        "%Data matrices\n",
        "XDMD   = DataXdmd(:,1:end-1)\n",
        "Ups = DataUdmd;"
      ],
      "execution_count": 4,
      "outputs": [
        {
          "output_type": "stream",
          "text": [
            "Writing dmd_test_01.m\n"
          ],
          "name": "stdout"
        }
      ]
    },
    {
      "cell_type": "code",
      "metadata": {
        "colab": {
          "base_uri": "https://localhost:8080/"
        },
        "id": "JPTaiJ-XPZKa",
        "outputId": "3964c9c5-e57a-48cf-87c8-e86f57664931"
      },
      "source": [
        "!octave dmd_test_01.m # -W : no window system"
      ],
      "execution_count": 5,
      "outputs": [
        {
          "output_type": "stream",
          "text": [
            "octave: X11 DISPLAY environment variable not set\n",
            "octave: disabling GUI features\n",
            "A_DMD =\n",
            "\n",
            "   5.0000e-01  -2.1751e-17\n",
            "  -7.4096e-17   1.0000e-01\n",
            "\n",
            "A_DMDc =\n",
            "\n",
            "   1.5000e+00   2.2711e-16\n",
            "  -7.4096e-17   1.0000e-01\n",
            "\n",
            "Phi =\n",
            "\n",
            "  -0.266675  -0.422947\n",
            "  -0.084589   0.053335\n",
            "\n",
            "XDMD =\n",
            "\n",
            " Columns 1 through 6:\n",
            "\n",
            "   4.0000e+00   2.0000e+00   1.0000e+00   5.0000e-01   2.5000e-01   1.2500e-01\n",
            "   7.0000e+00   7.0000e-01   7.0000e-02   7.0000e-03   7.0000e-04   7.0000e-05\n",
            "\n",
            " Columns 7 through 12:\n",
            "\n",
            "   6.2500e-02   3.1250e-02   1.5625e-02   7.8125e-03   3.9063e-03   1.9531e-03\n",
            "   7.0000e-06   7.0000e-07   7.0000e-08   7.0000e-09   7.0000e-10   7.0000e-11\n",
            "\n",
            " Columns 13 through 18:\n",
            "\n",
            "   9.7656e-04   4.8828e-04   2.4414e-04   1.2207e-04   6.1035e-05   3.0518e-05\n",
            "   7.0000e-12   7.0000e-13   7.0000e-14   7.0000e-15   6.9999e-16   6.9994e-17\n",
            "\n",
            " Columns 19 and 20:\n",
            "\n",
            "   1.5259e-05   7.6294e-06\n",
            "   6.9972e-18   6.9859e-19\n",
            "\n"
          ],
          "name": "stdout"
        }
      ]
    },
    {
      "cell_type": "markdown",
      "metadata": {
        "id": "G7m-p4ndcm_c"
      },
      "source": [
        "# **Dynamic Mode Decomposition:** Algorithm"
      ]
    },
    {
      "cell_type": "code",
      "metadata": {
        "colab": {
          "base_uri": "https://localhost:8080/"
        },
        "id": "xA6dUQvoackY",
        "outputId": "09bdebbe-6299-4312-b038-020a68bf0e6b"
      },
      "source": [
        "%%writefile dmd_full.m\n",
        "\n",
        "A = [1.5 0;0 0.1];\n",
        "x0 = [4;7];\n",
        "K = [-1];\n",
        "m = 20;\n",
        "DataX = x0;\n",
        "DataU = [0];\n",
        "\n",
        "B = [1;0];\n",
        "\n",
        "for j = 1 : m \n",
        "   \n",
        "  DataX(:,j+1) = A * (DataX(:,j)) + B.*(K*DataX(:,j));\n",
        "  DataU(:,j) = K .* DataX(1,j);\n",
        "end\n",
        "\n",
        "%Data matrices\n",
        "X   = DataX(:,1:end-1);\n",
        "Xp  = DataX(:,2:end);\n",
        "Ups = DataU;\n",
        "# --------------------------------------------------------\n",
        "#X   = StateData(:,1:end-1);\n",
        "#Xp  = StateData(:,2:end);\n",
        "#Ups = InputData(:,1:end-1);\n",
        "\n",
        "## =======================================================\n",
        "\n",
        "Omega = [X;Ups];\n",
        "\n",
        "[U,Sig,V] = svd(Omega,'econ');\n",
        "\n",
        "thresh = 1e-10;\n",
        "rtil = length(find(diag(Sig)>thresh));\n",
        "\n",
        "Util    = U(:,1:rtil);\n",
        "Sigtil  = Sig(1:rtil,1:rtil);\n",
        "Vtil    = V(:,1:rtil); \n",
        "\n",
        "[U,Sig,V] = svd(Xp,'econ');\n",
        "\n",
        "thresh = 1e-20;\n",
        "r = length(find(diag(Sig)>thresh));\n",
        "\n",
        "Uhat    = U(:,1:r); \n",
        "Sighat  = Sig(1:r,1:r);\n",
        "Vbar    = V(:,1:r); \n",
        "\n",
        "n = size(X,1); \n",
        "q = size(Ups,1);\n",
        "U_1 = Util(1:n,:);\n",
        "U_2 = Util(n+q:n+q,:);\n",
        "\n",
        "approxA = Uhat'*(Xp)*Vtil*inv(Sigtil)*U_1'*Uhat\n",
        "approxB = Uhat'*(Xp)*Vtil*inv(Sigtil)*U_2'\n",
        "\n",
        "[W,D] = eig(approxA);\n",
        "\n",
        "Phi = Xp * Vtil * inv(Sigtil) * U_1'*Uhat * W\n",
        "\n",
        "% Testing\n",
        "\n",
        "A = approxA;\n",
        "x0 = [4;7];\n",
        "K = [-1];\n",
        "m = 20;\n",
        "DataX = x0;\n",
        "DataU = [0];\n",
        "\n",
        "B = approxB;\n",
        "\n",
        "for j = 1 : m \n",
        "   \n",
        "  DataX(:,j+1) = A * (DataX(:,j)) + B.*(K*DataX(:,j));\n",
        "  DataU(:,j) = K .* DataX(1,j);\n",
        "end\n",
        "\n",
        "%Data matrices\n",
        "X   = DataX(:,1:end-1)\n",
        "Xp  = DataX(:,2:end);\n",
        "Ups = DataU;"
      ],
      "execution_count": 19,
      "outputs": [
        {
          "output_type": "stream",
          "text": [
            "Overwriting dmd_full.m\n"
          ],
          "name": "stdout"
        }
      ]
    },
    {
      "cell_type": "code",
      "metadata": {
        "colab": {
          "base_uri": "https://localhost:8080/"
        },
        "id": "tgTX7-VRc6X5",
        "outputId": "891c0613-8f2c-4724-b20a-6055f31ce924"
      },
      "source": [
        "!octave dmd_full.m # -W : no window system"
      ],
      "execution_count": 20,
      "outputs": [
        {
          "output_type": "stream",
          "text": [
            "octave: X11 DISPLAY environment variable not set\n",
            "octave: disabling GUI features\n",
            "approxA =\n",
            "\n",
            "   0.239052   0.039018\n",
            "   0.039018   0.110948\n",
            "\n",
            "approxB =\n",
            "\n",
            "   0.240703\n",
            "   0.067541\n",
            "\n",
            "Phi =\n",
            "\n",
            "  -2.5000e-01   2.3699e-17\n",
            "   2.8402e-17   1.0000e-01\n",
            "\n",
            "X =\n",
            "\n",
            " Columns 1 through 6:\n",
            "\n",
            "   4.0000e+00   2.6652e-01   1.7505e-02   1.1558e-03   7.6164e-05   5.0227e-06\n",
            "   7.0000e+00   4.5992e-01   3.0363e-02   2.0010e-03   1.3195e-04   8.6994e-06\n",
            "\n",
            " Columns 7 through 12:\n",
            "\n",
            "   3.3113e-07   2.1833e-08   1.4395e-09   9.4911e-11   6.2577e-12   4.1259e-13\n",
            "   5.7359e-07   3.7818e-08   2.4934e-09   1.6440e-10   1.0839e-11   7.1467e-13\n",
            "\n",
            " Columns 13 through 18:\n",
            "\n",
            "   2.7203e-14   1.7936e-15   1.1826e-16   7.7969e-18   5.1407e-19   3.3894e-20\n",
            "   4.7120e-14   3.1067e-15   2.0484e-16   1.3505e-17   8.9045e-19   5.8710e-20\n",
            "\n",
            " Columns 19 and 20:\n",
            "\n",
            "   2.2347e-21   1.4734e-22\n",
            "   3.8709e-21   2.5522e-22\n",
            "\n"
          ],
          "name": "stdout"
        }
      ]
    }
  ]
}