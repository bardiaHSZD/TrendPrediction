{
  "nbformat": 4,
  "nbformat_minor": 0,
  "metadata": {
    "colab": {
      "name": "Dynamic_Mode_Decomposition.ipynb",
      "provenance": [],
      "collapsed_sections": [],
      "authorship_tag": "ABX9TyOnpHBTqhOlbnLn/00kBwH5",
      "include_colab_link": true
    },
    "kernelspec": {
      "name": "python3",
      "display_name": "Python 3"
    },
    "language_info": {
      "name": "python"
    }
  },
  "cells": [
    {
      "cell_type": "markdown",
      "metadata": {
        "id": "view-in-github",
        "colab_type": "text"
      },
      "source": [
        "<a href=\"https://colab.research.google.com/github/bardiaHSZD/TrendPrediction/blob/main/Dynamic_Mode_Decomposition.ipynb\" target=\"_parent\"><img src=\"https://colab.research.google.com/assets/colab-badge.svg\" alt=\"Open In Colab\"/></a>"
      ]
    },
    {
      "cell_type": "code",
      "metadata": {
        "id": "22ZLprVKO9Rd"
      },
      "source": [
        "!apt install octave\n",
        "!apt-get update --fix-missing\n",
        "!apt install octave"
      ],
      "execution_count": null,
      "outputs": []
    },
    {
      "cell_type": "code",
      "metadata": {
        "colab": {
          "base_uri": "https://localhost:8080/"
        },
        "id": "V4q1dtz3Owgz",
        "outputId": "610a22bb-a8f4-4e9c-87ab-2ac142cb7ca1"
      },
      "source": [
        "%%writefile dmd_test.m\n",
        "\n",
        "clear all;\n",
        "\n",
        "%Quick Test of DMD with control.\n",
        "\n",
        "%Data collection\n",
        "\n",
        "A = [1.5 0;0 0.1];\n",
        "x0 = [4;7];\n",
        "K = [-1];\n",
        "m = 20;\n",
        "DataX = x0;\n",
        "DataU = [0];\n",
        "\n",
        "B = [1;0];\n",
        "\n",
        "for j = 1 : m \n",
        "   \n",
        "  DataX(:,j+1) = A * (DataX(:,j)) + B.*(K*DataX(:,j));\n",
        "  DataU(:,j) = K .* DataX(1,j);\n",
        "end\n",
        "\n",
        "%Data matrices\n",
        "X   = DataX(:,1:end-1);\n",
        "Xp  = DataX(:,2:end);\n",
        "Ups = DataU;\n",
        "\n",
        "%SVD\n",
        "[U,Sig,V] = svd(X,'econ');\n",
        "\n",
        "thresh = 1e-10;\n",
        "r = length(find(diag(Sig)>thresh));\n",
        "\n",
        "U    = U(:,1:r);\n",
        "Sig  = Sig(1:r,1:r);\n",
        "V    = V(:,1:r);\n",
        "\n",
        "%DMD\n",
        "\n",
        "A_DMD  = Xp*V*inv(Sig)*U'\n",
        "\n",
        "%DMDc - B is known \n",
        "\n",
        "A_DMDc = (Xp - B*Ups)*V*inv(Sig)*U'\n"
      ],
      "execution_count": 10,
      "outputs": [
        {
          "output_type": "stream",
          "text": [
            "Writing dmd_test.m\n"
          ],
          "name": "stdout"
        }
      ]
    },
    {
      "cell_type": "code",
      "metadata": {
        "colab": {
          "base_uri": "https://localhost:8080/"
        },
        "id": "JPTaiJ-XPZKa",
        "outputId": "db08a816-a003-4709-856c-d4a022c279b2"
      },
      "source": [
        "!octave dmd_test.m # -W : no window system"
      ],
      "execution_count": 11,
      "outputs": [
        {
          "output_type": "stream",
          "text": [
            "octave: X11 DISPLAY environment variable not set\n",
            "octave: disabling GUI features\n",
            "A_DMD =\n",
            "\n",
            "   5.0000e-01  -2.1751e-17\n",
            "  -7.4096e-17   1.0000e-01\n",
            "\n",
            "A_DMDc =\n",
            "\n",
            "   1.5000e+00   2.2711e-16\n",
            "  -7.4096e-17   1.0000e-01\n",
            "\n"
          ],
          "name": "stdout"
        }
      ]
    },
    {
      "cell_type": "code",
      "metadata": {
        "id": "xA6dUQvoackY"
      },
      "source": [
        "%%writefile dmd_full.m\n",
        "\n",
        "#X   = StateData(:,1:end-1);\n",
        "#Xp  = StateData(:,2:end);\n",
        "#Ups = InputData(:,1:end-1);\n",
        "\n",
        "Omega = [X;Ups];\n",
        "\n",
        "[U,Sig,V] = svd(Omega,'econ');\n",
        "\n",
        "thresh = 1e-10;\n",
        "rtil = length(find(diag(Sig)>thresh));\n",
        "\n",
        "Util    = U(:,1:rtil); \n",
        "Sigtil  = Sig(1:rtil,1:rtil);\n",
        "Vtil    = V(:,1:rtil); \n",
        "\n",
        "[U,Sig,V] = svd(Xp,'econ');\n",
        "\n",
        "thresh = 1e-10;\n",
        "r = length(find(diag(Sig)>thresh));\n",
        "\n",
        "Uhat    = U(:,1:r); \n",
        "Sighat  = Sig(1:r,1:r);\n",
        "Vbar    = V(:,1:r); \n",
        "\n",
        "n = size(X,1); \n",
        "q = size(Ups,1);\n",
        "U_1 = Util(1:n,:);\n",
        "U_2 = Util(n+q:n+q,:);\n",
        "\n",
        "approxA = Uhat'*(Xp)*Vtil*inv(Sigtil)*U_1'*Uhat;\n",
        "approxB = Uhat'*(Xp)*Vtil*inv(Sigtil)*U_2';\n",
        "\n",
        "[W,D] = eig(approxA);\n",
        "\n",
        "Phi = Xp * Vtil * inv(Sigtil) * U_1'*Uhat * W;"
      ],
      "execution_count": null,
      "outputs": []
    }
  ]
}