{
  "nbformat": 4,
  "nbformat_minor": 0,
  "metadata": {
    "colab": {
      "name": "Dynamic_Mode_Decomposition.ipynb",
      "provenance": [],
      "collapsed_sections": [],
      "authorship_tag": "ABX9TyPK+ES1NXVC0ctiTXMVL0Ja",
      "include_colab_link": true
    },
    "kernelspec": {
      "name": "python3",
      "display_name": "Python 3"
    },
    "language_info": {
      "name": "python"
    }
  },
  "cells": [
    {
      "cell_type": "markdown",
      "metadata": {
        "id": "view-in-github",
        "colab_type": "text"
      },
      "source": [
        "<a href=\"https://colab.research.google.com/github/bardiaHSZD/TrendPrediction/blob/main/Dynamic_Mode_Decomposition.ipynb\" target=\"_parent\"><img src=\"https://colab.research.google.com/assets/colab-badge.svg\" alt=\"Open In Colab\"/></a>"
      ]
    },
    {
      "cell_type": "markdown",
      "metadata": {
        "id": "r2Z7hfxVcBDA"
      },
      "source": [
        "# **Environment Installation**"
      ]
    },
    {
      "cell_type": "code",
      "metadata": {
        "id": "22ZLprVKO9Rd"
      },
      "source": [
        "!apt install octave\n",
        "!apt-get update --fix-missing\n",
        "!apt install octave"
      ],
      "execution_count": null,
      "outputs": []
    },
    {
      "cell_type": "markdown",
      "metadata": {
        "id": "MFCbl39bcIPV"
      },
      "source": [
        "# **Dynamic Mode Decomposition:** Test"
      ]
    },
    {
      "cell_type": "code",
      "metadata": {
        "colab": {
          "base_uri": "https://localhost:8080/"
        },
        "id": "V4q1dtz3Owgz",
        "outputId": "0128e406-a2be-46bb-9790-c822e274c810"
      },
      "source": [
        "%%writefile dmd_test_01.m\n",
        "\n",
        "clear all;\n",
        "\n",
        "%Quick Test of DMD with control.\n",
        "\n",
        "%Data collection\n",
        "\n",
        "A = [1.5 0;0 0.1];\n",
        "x0 = [4;7];\n",
        "K = [-1];\n",
        "m = 20;\n",
        "DataX = x0;\n",
        "DataU = [0];\n",
        "\n",
        "B = [1;0];\n",
        "\n",
        "for j = 1 : m \n",
        "   \n",
        "  DataX(:,j+1) = A * (DataX(:,j)) + B.*(K*DataX(:,j));\n",
        "  DataU(:,j) = K .* DataX(1,j);\n",
        "end\n",
        "\n",
        "%Data matrices\n",
        "X   = DataX(:,1:end-1);\n",
        "Xp  = DataX(:,2:end);\n",
        "Ups = DataU;\n",
        "\n",
        "%SVD\n",
        "[U,Sig,V] = svd(X,'econ');\n",
        "\n",
        "thresh = 1e-10;\n",
        "r = length(find(diag(Sig)>thresh));\n",
        "\n",
        "U    = U(:,1:r);\n",
        "Sig  = Sig(1:r,1:r);\n",
        "V    = V(:,1:r);\n",
        "\n",
        "%DMD\n",
        "\n",
        "A_DMD  = Xp*V*inv(Sig)*U'\n",
        "\n",
        "%DMDc - B is known \n",
        "\n",
        "A_DMDc = (Xp - B*Ups)*V*inv(Sig)*U'\n",
        "\n",
        "% Extra\n",
        "[W,D] = eig(A_DMDc)\n",
        "\n",
        "Phi = Xp * V * inv(Sig) * U'*U * W\n",
        "\n",
        "% DMD Spectra\n",
        "t = linspace (0,m,m);\n",
        "dt = t(2) - t(1);\n",
        "lambda = diag(D);\n",
        "omega = log(lambda)/dt;\n",
        "\n",
        "% Compute DMD Solution\n",
        "x0 = [4;7];\n",
        "K = [-1];\n",
        "m = 20;\n",
        "DataXdmd = x0;\n",
        "DataUdmd = [0];\n",
        "\n",
        "B = [1.0;0.0];\n",
        "\n",
        "for j = 1 : m   \n",
        "  DataXdmd(:,j+1) = A_DMDc * (DataXdmd(:,j)) + B.*(K*DataXdmd(:,j));\n",
        "  DataUdmd(:,j) = K .* DataXdmd(1,j);\n",
        "end\n",
        "\n",
        "%Data matrices\n",
        "XDMD   = DataXdmd(:,1:end-1)\n",
        "Ups = DataUdmd;"
      ],
      "execution_count": 6,
      "outputs": [
        {
          "output_type": "stream",
          "text": [
            "Overwriting dmd_test_01.m\n"
          ],
          "name": "stdout"
        }
      ]
    },
    {
      "cell_type": "code",
      "metadata": {
        "colab": {
          "base_uri": "https://localhost:8080/"
        },
        "id": "JPTaiJ-XPZKa",
        "outputId": "fe7720c1-22cf-4378-f1ed-b400106a532d"
      },
      "source": [
        "!octave dmd_test_01.m # -W : no window system"
      ],
      "execution_count": 7,
      "outputs": [
        {
          "output_type": "stream",
          "text": [
            "octave: X11 DISPLAY environment variable not set\n",
            "octave: disabling GUI features\n",
            "A_DMD =\n",
            "\n",
            "   5.0000e-01  -2.1751e-17\n",
            "  -7.4096e-17   1.0000e-01\n",
            "\n",
            "A_DMDc =\n",
            "\n",
            "   1.5000e+00   2.2711e-16\n",
            "  -7.4096e-17   1.0000e-01\n",
            "\n",
            "W =\n",
            "\n",
            "   1.00000  -0.00000\n",
            "   0.00000   1.00000\n",
            "\n",
            "D =\n",
            "\n",
            "Diagonal Matrix\n",
            "\n",
            "   1.50000         0\n",
            "         0   0.10000\n",
            "\n",
            "Phi =\n",
            "\n",
            "  -0.266675  -0.422947\n",
            "  -0.084589   0.053335\n",
            "\n",
            "XDMD =\n",
            "\n",
            " Columns 1 through 6:\n",
            "\n",
            "   4.0000e+00   2.0000e+00   1.0000e+00   5.0000e-01   2.5000e-01   1.2500e-01\n",
            "   7.0000e+00   7.0000e-01   7.0000e-02   7.0000e-03   7.0000e-04   7.0000e-05\n",
            "\n",
            " Columns 7 through 12:\n",
            "\n",
            "   6.2500e-02   3.1250e-02   1.5625e-02   7.8125e-03   3.9063e-03   1.9531e-03\n",
            "   7.0000e-06   7.0000e-07   7.0000e-08   7.0000e-09   7.0000e-10   7.0000e-11\n",
            "\n",
            " Columns 13 through 18:\n",
            "\n",
            "   9.7656e-04   4.8828e-04   2.4414e-04   1.2207e-04   6.1035e-05   3.0518e-05\n",
            "   7.0000e-12   7.0000e-13   7.0000e-14   7.0000e-15   6.9999e-16   6.9994e-17\n",
            "\n",
            " Columns 19 and 20:\n",
            "\n",
            "   1.5259e-05   7.6294e-06\n",
            "   6.9972e-18   6.9859e-19\n",
            "\n"
          ],
          "name": "stdout"
        }
      ]
    },
    {
      "cell_type": "markdown",
      "metadata": {
        "id": "4UqEPNHxAqs0"
      },
      "source": [
        "###**Random Noise**"
      ]
    },
    {
      "cell_type": "code",
      "metadata": {
        "colab": {
          "base_uri": "https://localhost:8080/"
        },
        "id": "tprtZ0C7JKZq",
        "outputId": "b009795d-b8bc-435e-ab7b-c0511009d8c0"
      },
      "source": [
        "%%writefile spatio-test.m\n",
        "clear all, close all, clc\n",
        "\n",
        "dt = .01;       % time step of signal\n",
        "L = 10;\n",
        "t = 0:dt:L;\n",
        "\n",
        "% signal: sum of two sines at 13Hz and 7Hz\n",
        "xclean = (14*sin(7*2*pi*t)+5*sin(13*2*pi*t));\n",
        "% add noise to signal\n",
        "x = xclean + 10*randn(size(xclean));\n",
        "ylim([-40 40])\n",
        "plot(t,x,'Color',[.7 .3 .3],'LineWidth',.9), hold on\n",
        "plot(t,xclean,'k','LineWidth',1.5)\n",
        "legend('Noisy signal','Clean Signal')\n",
        "grid on\n",
        "set(gcf,'Position',[100 100 500 200])\n",
        "set(gcf,'PaperPositionMode','auto')\n",
        "% print('-depsc2', '-loose', '../figures/FFTDMD_signal');\n",
        "%%\n",
        "figure\n",
        "xhat = fft(x);\n",
        "N = length(t);  % number of samples\n",
        "xpower = abs(xhat(1:N/2+1))*2/N;\n",
        "Fs = 1/dt;      % sampling frequency\n",
        "freqs = Fs*(0:(N/2))/N;\n",
        "plot(freqs,xpower,'k','LineWidth',1.2)\n",
        "grid on, hold on\n",
        "\n",
        "%%\n",
        "% better de-noising with larger kshift\n",
        "s = 500;  % number of times to shift-stack signal\n",
        "for k = 1:s\n",
        "    X(k,:) = x(k:end-s+k);\n",
        "end\n",
        "[U,S,V] = svd(X(:,1:end-1),'econ');\n",
        "\n",
        "% keep 50 modes and compute DMD spectrum Lambda\n",
        "r = 50;\n",
        "Atilde = U(:,1:r)'*X(:,2:end)*V(:,1:r)*inv(S(1:r,1:r));\n",
        "[W,Lambda] = eig(Atilde);\n",
        "% convert eigenvalues to continuous time\n",
        "DMDfreqs = log(diag(Lambda))/dt/2/pi;  \n",
        "Phi = X(:,2:end)*V(:,1:r)*inv(S(1:r,1:r))*W;\n",
        "\n",
        "% mode amplitude  (based on first snapshot)\n",
        "b = Phi\\X(:,1);  \n",
        "%  need to scale power by 2/sqrt(s)\n",
        "DMDpower = abs(b)*2/sqrt(s) \n",
        "\n",
        "scatter(abs(imag(DMDfreqs)),DMDpower,'r')\n",
        "legend('FFT','DMD')\n",
        "\n",
        "set(gcf,'Position',[100 100 500 200])\n",
        "set(gcf,'PaperPositionMode','auto')\n",
        "% print('-depsc2', '-loose', '../figures/FFTDMD_spectrum');\n"
      ],
      "execution_count": 11,
      "outputs": [
        {
          "output_type": "stream",
          "text": [
            "Overwriting spatio-test.m\n"
          ],
          "name": "stdout"
        }
      ]
    },
    {
      "cell_type": "code",
      "metadata": {
        "colab": {
          "base_uri": "https://localhost:8080/"
        },
        "id": "M4VvIDuaJKdw",
        "outputId": "9cffd33a-6a35-4941-9db9-aef623c093a2"
      },
      "source": [
        "!octave spatio-test.m # -W : no window system"
      ],
      "execution_count": 13,
      "outputs": [
        {
          "output_type": "stream",
          "text": [
            "octave: X11 DISPLAY environment variable not set\n",
            "octave: disabling GUI features\n",
            "                                                                               \n",
            "                  SVD: low rank property (rank = 2, two modes)                 \n",
            "                                                                               \n",
            " 0.7 |---------------------------------------------------------------------|   \n",
            "     |                 +                +                 +                |   \n",
            "     |                                                                     |   \n",
            " 0.6 |-+                                                                 +-|   \n",
            "     |                                                                     |   \n",
            " 0.5 |-+                                                                 +-|   \n",
            "     |                                                                     |   \n",
            "     |                                                                     |   \n",
            " 0.4 |F+                                                                 +-|   \n",
            "     |                                                                     |   \n",
            " 0.3 |-+                                                                 +-|   \n",
            "     |                                                                     |   \n",
            "     |                                                                     |   \n",
            " 0.2 |-+                                                                 +-|   \n",
            "     |                                                                     |   \n",
            " 0.1 |-+                                                                 +-|   \n",
            "     |                                                                     |   \n",
            "     |                 +                +                 +                |   \n",
            "   0 |---------------------------------------------------------------------|   \n",
            "     0                50               100               150              200  \n",
            "                                                                               \n",
            "                    Modes for basis of column space of ' f '                   \n",
            "                                                                               \n",
            "      0.4 |-----------------------------------------------------------|        \n",
            "      0.3 |-+    +---------------------------------------------------+|        \n",
            "          |      |***?***1st mode of basis u (left singular vectors) ||        \n",
            "      0.2 |$+    |###?###2nd mode of basis u (left singular vectors)+||        \n",
            "      0.1 |$+    +$$$?$$$3rd mode; numerical round off (junk basis)  +|        \n",
            "        0 |$$$$$$$$$$$$$$$$$$$$$$$$$$$$$$$$$$$$$$$$$$$$$$$$$$$$$$$$$$$|        \n",
            "          |$$ $         $ $ $$$$$$  $$$##$$$$$$$****                  |        \n",
            "     -0.1 |-+     +      +       +      + ***   +      +       +    +-|        \n",
            "     -0.2 |-----------------------------------------------------------|        \n",
            "          0      50   Modes for basis of row space of ' f '   350    400       \n",
            "                                                                               \n",
            "      0.2 |-----------------------------------------------------------|        \n",
            "     0.15 |-+    +----------------------$----------------------------+|        \n",
            "      0.1 |$#    |***?##*1st mode of*$*$$s v (r**$t s$ng$l$r$v###ors$||        \n",
            "     0.05 |$$$$**|$$$?##$2n$$$$d$##$$$$$$$ $$$r$$$$#$$$$$$$$$$$$#$$$$$|        \n",
            "        0 |**$$$*$$$$?$$$$$$$$$$$$$$$$$$i$$$$$$$$$$$$$$$j$$$$$$$$$$$$*|        \n",
            "    -0.05 |-+$$$$$$$$$$$$ $#$#$$*$$$$ $$*$$$#$ $   $$$$$##$#$$$$$$$$+-|        \n",
            "     -0.1 |-+  $$#   $ $$     ***   $    ****      $ $*  #  $$  $$  ##|        \n",
            "    -0.15 |-+           $+              +              +            +-|        \n",
            "     -0.2 |-----------------------------------------------------------|        \n",
            "          0             50             100            150            200       \n",
            "                                                                               \n",
            "                                                                               \n",
            "                                                                               \n",
            "      0.2 |-----------------------------------------------------------|        \n",
            "     0.15 |-+     +      +    ###+      +     +----------------------+|        \n",
            "      0.1 |-+              ####*##****** #####|***?***1st mode of SVD||        \n",
            "     0.05 |-+           ####***  ###   *##   #####?###2nd mode of SVD+|        \n",
            "        0 |##############**        ##   #        #####################|        \n",
            "    -0.05 |-+                       #### *   ****                   +-|        \n",
            "     -0.1 |-+                             ****                      +-|        \n",
            "    -0.15 |-+     +      +       +      +       +      +       +    +-|        \n",
            "     -0.2 |-----------------------------------------------------------|        \n",
            "          0      50     100     150    200     250    300     350    400       \n",
            "                                                                               \n",
            "      0.2 |-----------------------------------------------------------|        \n",
            "     0.15 |-+     +      +   #####   ** +     +----------------------+|        \n",
            "      0.1 |-+              ###   ###* **      |***?***1st mode of DMD||        \n",
            "     0.05 |-+           ####   ****#####*     +###?###2nd mode of DMD+|        \n",
            "        0 |##############*******       ###############################|        \n",
            "    -0.05 |-+                           **    ****                  +-|        \n",
            "     -0.1 |-+                            ** ***                     +-|        \n",
            "    -0.15 |-+     +      +       +      + ***   +      +       +    +-|        \n",
            "     -0.2 |-----------------------------------------------------------|        \n",
            "          0      50     100     150    200     250    300     350    400       \n",
            "                                                                               \n",
            "   2.76639682539224e-15 + 2.80000000000000e+00i\n",
            "   8.64308409575418e-16 + 2.30000000000000e+00i\n",
            "real part: numerical round off\n",
            "imag part: eigen values\n"
          ],
          "name": "stdout"
        }
      ]
    }
  ]
}