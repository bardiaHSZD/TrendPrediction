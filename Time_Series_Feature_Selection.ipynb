{
  "nbformat": 4,
  "nbformat_minor": 0,
  "metadata": {
    "kernelspec": {
      "display_name": "Python 3",
      "language": "python",
      "name": "python3"
    },
    "language_info": {
      "codemirror_mode": {
        "name": "ipython",
        "version": 3
      },
      "file_extension": ".py",
      "mimetype": "text/x-python",
      "name": "python",
      "nbconvert_exporter": "python",
      "pygments_lexer": "ipython3",
      "version": "3.8.8"
    },
    "metadata": {
      "interpreter": {
        "hash": "aee8b7b246df8f9039afb4144a1f6fd8d2ca17a180786b69acc140d282b71a49"
      }
    },
    "colab": {
      "name": "Time_Series_Feature_Selection.ipynb",
      "provenance": [],
      "collapsed_sections": [],
      "include_colab_link": true
    }
  },
  "cells": [
    {
      "cell_type": "markdown",
      "metadata": {
        "id": "view-in-github",
        "colab_type": "text"
      },
      "source": [
        "<a href=\"https://colab.research.google.com/github/bardiaHSZD/TrendPrediction/blob/main/Time_Series_Feature_Selection.ipynb\" target=\"_parent\"><img src=\"https://colab.research.google.com/assets/colab-badge.svg\" alt=\"Open In Colab\"/></a>"
      ]
    },
    {
      "cell_type": "markdown",
      "metadata": {
        "id": "myqtP_e5mzEQ"
      },
      "source": [
        "## **Time Series Feature Extraction**\n",
        "\n",
        "This notebook extracts meaningful features from time series. \n",
        "      "
      ]
    },
    {
      "cell_type": "code",
      "metadata": {
        "id": "OuRw8bQnmzEV"
      },
      "source": [
        "%%capture\n",
        "# For Google Colab:\n",
        "!pip install kats\n",
        "!pip install Deprecated\n",
        "!pip install statsmodels"
      ],
      "execution_count": 1,
      "outputs": []
    },
    {
      "cell_type": "code",
      "metadata": {
        "colab": {
          "base_uri": "https://localhost:8080/"
        },
        "id": "ZoSZNhC7X9dq",
        "outputId": "fc628c63-6858-4738-86ea-f840e21bcd54"
      },
      "source": [
        "#Connect Google Drive\n",
        "from google.colab import drive\n",
        "drive.mount('/content/drive')"
      ],
      "execution_count": 2,
      "outputs": [
        {
          "output_type": "stream",
          "name": "stdout",
          "text": [
            "Mounted at /content/drive\n"
          ]
        }
      ]
    },
    {
      "cell_type": "code",
      "metadata": {
        "colab": {
          "base_uri": "https://localhost:8080/"
        },
        "id": "9oHa_7nE0co5",
        "outputId": "3eaa082d-a829-49f0-eafd-5b335896b1fb"
      },
      "source": [
        "!ls"
      ],
      "execution_count": 3,
      "outputs": [
        {
          "output_type": "stream",
          "name": "stdout",
          "text": [
            "drive  sample_data\n"
          ]
        }
      ]
    },
    {
      "cell_type": "code",
      "metadata": {
        "id": "Q4-Xx8AuZQWe"
      },
      "source": [
        "import sys\n",
        "sys.path.append(\"/content/drive/MyDrive/Colab Notebooks/\")\n",
        "import tsfeatures"
      ],
      "execution_count": 4,
      "outputs": []
    },
    {
      "cell_type": "code",
      "metadata": {
        "colab": {
          "base_uri": "https://localhost:8080/"
        },
        "id": "z3_lGtE11ydn",
        "outputId": "c9342257-7648-4e26-9f69-56afd150dc31"
      },
      "source": [
        "!git clone https://github.com/facebookresearch/Kats"
      ],
      "execution_count": 5,
      "outputs": [
        {
          "output_type": "stream",
          "name": "stdout",
          "text": [
            "Cloning into 'Kats'...\n",
            "remote: Enumerating objects: 6519, done.\u001b[K\n",
            "remote: Counting objects: 100% (818/818), done.\u001b[K\n",
            "remote: Compressing objects: 100% (430/430), done.\u001b[K\n",
            "remote: Total 6519 (delta 596), reused 535 (delta 384), pack-reused 5701\u001b[K\n",
            "Receiving objects: 100% (6519/6519), 15.38 MiB | 25.20 MiB/s, done.\n",
            "Resolving deltas: 100% (3852/3852), done.\n"
          ]
        }
      ]
    },
    {
      "cell_type": "code",
      "metadata": {
        "id": "32tLaDGHmzEX"
      },
      "source": [
        "import sys\n",
        "sys.path.append(\"../\")\n",
        "\n",
        "import numpy as np\n",
        "import pandas as pd\n",
        "import pprint\n",
        "import matplotlib.pyplot as plt\n",
        "from sklearn.decomposition import PCA\n",
        "from kats.consts import TimeSeriesData\n",
        "from statsmodels.tsa.seasonal import STL\n",
        "from kats.utils.simulator import Simulator\n",
        "from sklearn.preprocessing import StandardScaler\n",
        "#from kats.tsfeatures.tsfeatures import TsFeatures\n",
        "\n",
        "import warnings\n",
        "warnings.simplefilter(action='ignore')"
      ],
      "execution_count": 6,
      "outputs": []
    },
    {
      "cell_type": "markdown",
      "metadata": {
        "id": "rgpPp3csmzEY"
      },
      "source": [
        "For the purposes of this tutorial, we are going to use the `Simulator` to generate a list of 30 different `TimeSeriesData` objects called `ts_list`.  It contains 10 time series simulated from the ARIMA model, 10 time series with trend shifts, and 10 time series with level shifts."
      ]
    },
    {
      "cell_type": "code",
      "metadata": {
        "id": "iROwhFJzmzEY"
      },
      "source": [
        "sim = Simulator(n=90, freq=\"D\", start = \"2021-01-01\") # simulate 90 days of data\n",
        "random_seed = 100\n",
        "\n",
        "# generate 10 TimeSeriesData with arima_sim\n",
        "np.random.seed(random_seed) # setting numpy seed\n",
        "arima_sim_list = [sim.arima_sim(ar=[0.1, 0.05], ma = [0.04, 0.1], d = 1) for _ in range(10)]\n",
        "\n",
        "# generate 10 TimeSeriesData with trend shifts\n",
        "trend_sim_list = [\n",
        "    sim.trend_shift_sim(\n",
        "        cp_arr = [30, 60, 75],\n",
        "        trend_arr=[3, 15, 2, 8],\n",
        "        intercept=30,\n",
        "        noise=50,\n",
        "        seasonal_period=7,\n",
        "        seasonal_magnitude=np.random.uniform(10, 100),\n",
        "        random_seed=random_seed\n",
        "    ) for _ in range(10)\n",
        "]\n",
        "\n",
        "\n",
        "# generate 10 TimeSeriesData with level shifts\n",
        "level_shift_list = [\n",
        "    sim.level_shift_sim(\n",
        "        cp_arr = [30, 60, 75],\n",
        "        level_arr=[1.35, 1.05, 1.35, 1.2],\n",
        "        noise=0.05,\n",
        "        seasonal_period=7,\n",
        "        seasonal_magnitude=np.random.uniform(0.1, 1.0),\n",
        "        random_seed=random_seed\n",
        "    ) for _ in range(10)\n",
        "]\n",
        "\n",
        "ts_list = arima_sim_list + trend_sim_list + level_shift_list"
      ],
      "execution_count": 7,
      "outputs": []
    },
    {
      "cell_type": "markdown",
      "metadata": {
        "id": "miWISDC9mzEZ"
      },
      "source": [
        "# 1. Basic Usage with a Single Time Series\n",
        "We begin by introducing the basic usage of `TsFeatures`.  For the purposes of this example, we will use the simulator to simulate a bunch of different time series from the ARIMA model."
      ]
    },
    {
      "cell_type": "markdown",
      "metadata": {
        "id": "U_33v9_amzEb"
      },
      "source": [
        "`TsFeatures` currently can only process one time series a time, so let's start by taking a look at the first time series we generated above."
      ]
    },
    {
      "cell_type": "code",
      "metadata": {
        "id": "MuV-kiFPmzEc",
        "colab": {
          "base_uri": "https://localhost:8080/",
          "height": 435
        },
        "outputId": "6b6a453c-a87a-4cc9-ccc6-648811103a3c"
      },
      "source": [
        "ts = ts_list[0]\n",
        "\n",
        "# plot the time series\n",
        "ts.plot(cols=['value'])\n",
        "plt.xticks(rotation = 45)\n",
        "plt.show()"
      ],
      "execution_count": 8,
      "outputs": [
        {
          "output_type": "display_data",
          "data": {
            "image/png": "[encoded data removed]",
            "text/plain": [
              "<Figure size 720x432 with 1 Axes>"
            ]
          },
          "metadata": {}
        }
      ]
    },
    {
      "cell_type": "markdown",
      "metadata": {
        "id": "CGx858YumzEd"
      },
      "source": [
        "Extracting the basic features from the time series using `TsFeatures` is straightforward.  We can do so as follows."
      ]
    },
    {
      "cell_type": "code",
      "metadata": {
        "id": "5kq78U5ymzEd",
        "colab": {
          "base_uri": "https://localhost:8080/"
        },
        "outputId": "df57b75d-d972-47df-dc40-208fbb426dff"
      },
      "source": [
        "from tsfeatures import TsFeatures\n",
        "# Step 1. initiate TsFeatures\n",
        "model = TsFeatures()\n",
        "\n",
        "# Step 2. use .transform() method, and apply on the target time series data\n",
        "output_features = model.transform(ts)\n",
        "\n",
        "output_features"
      ],
      "execution_count": 9,
      "outputs": [
        {
          "output_type": "stream",
          "name": "stderr",
          "text": [
            "WARNING:root:Holt-Winters failed Data must be positive.\n"
          ]
        },
        {
          "output_type": "execute_result",
          "data": {
            "text/plain": [
              "{'binarize_mean': 0.43333333333333335,\n",
              " 'crossing_points': 5,\n",
              " 'diff1y_acf1': 0.18302337359382667,\n",
              " 'diff1y_acf5': 0.07947604177686789,\n",
              " 'diff1y_pacf5': 0.0798179214470633,\n",
              " 'diff2y_acf1': -0.4816907863327952,\n",
              " 'diff2y_acf5': 0.244768248661085,\n",
              " 'diff2y_pacf5': 0.36145785941160097,\n",
              " 'entropy': 0.2742447620827894,\n",
              " 'firstmin_ac': 53,\n",
              " 'firstzero_ac': 30,\n",
              " 'flat_spots': 1,\n",
              " 'heterogeneity': 73.29527168434541,\n",
              " 'histogram_mode': -11.841676172131818,\n",
              " 'holt_alpha': 0.9999999850988388,\n",
              " 'holt_beta': 0.1365684793190549,\n",
              " 'hurst': 0.41884368965647256,\n",
              " 'hw_alpha': nan,\n",
              " 'hw_beta': nan,\n",
              " 'hw_gamma': nan,\n",
              " 'length': 90,\n",
              " 'level_shift_idx': 23,\n",
              " 'level_shift_size': 0.7134342301151566,\n",
              " 'linearity': 0.8346355269096618,\n",
              " 'lumpiness': 10.258210327109449,\n",
              " 'mean': -4.973228083549793,\n",
              " 'peak': 1,\n",
              " 'seas_acf1': 0.8149983814152568,\n",
              " 'seas_pacf1': 0.030344962550474423,\n",
              " 'seasonality_strength': 0.3521955818150291,\n",
              " 'spikiness': 0.00020455870537077657,\n",
              " 'stability': 45.07760417461487,\n",
              " 'std1st_der': 0.8773588739369633,\n",
              " 'trend_strength': 0.9853025999592567,\n",
              " 'trough': 6,\n",
              " 'unitroot_kpss': 0.41641147078333146,\n",
              " 'var': 50.69499812650379,\n",
              " 'y_acf1': 0.9597578784708428,\n",
              " 'y_acf5': 4.0361834721280365,\n",
              " 'y_pacf5': 0.9862593061001356}"
            ]
          },
          "metadata": {},
          "execution_count": 9
        }
      ]
    },
    {
      "cell_type": "markdown",
      "metadata": {
        "id": "XYDwYfsgmzEe"
      },
      "source": [
        "The dictionary above shows 40 features, which are the features that we calculate by default.  There are 28 additional features that we support in `TsFeatures`, and users can select which features they would like to include in their calculations using the `selected_features` argument.  We will see an example of this later.\n"
      ]
    },
    {
      "cell_type": "markdown",
      "metadata": {
        "id": "ZfWKeqgqmzEe"
      },
      "source": [
        "## 2. Applications with Multiple Time Series"
      ]
    },
    {
      "cell_type": "markdown",
      "metadata": {
        "id": "LSk0oc-DmzEf"
      },
      "source": [
        "Now we will look at each of the time series in `ts_list` and use `TsFeatures` to calculate the features for each of them"
      ]
    },
    {
      "cell_type": "code",
      "metadata": {
        "id": "z6I8EfbHmzEf",
        "colab": {
          "base_uri": "https://localhost:8080/"
        },
        "outputId": "b727f85f-54e9-4033-b432-65e09553a19a"
      },
      "source": [
        "model = TsFeatures()\n",
        "output_features = [model.transform(ts) for ts in ts_list] # loop through time series data and perform transformation"
      ],
      "execution_count": 10,
      "outputs": [
        {
          "output_type": "stream",
          "name": "stderr",
          "text": [
            "WARNING:root:Holt-Winters failed Data must be positive.\n",
            "WARNING:root:Holt-Winters failed Data must be positive.\n",
            "WARNING:root:Holt-Winters failed Data must be positive.\n",
            "WARNING:root:Holt-Winters failed Data must be positive.\n",
            "WARNING:root:Holt-Winters failed Data must be positive.\n",
            "WARNING:root:Holt-Winters failed Data must be positive.\n",
            "WARNING:root:Holt-Winters failed Data must be positive.\n",
            "WARNING:root:Holt-Winters failed Data must be positive.\n",
            "WARNING:root:Holt-Winters failed Data must be positive.\n",
            "WARNING:root:Holt-Winters failed Data must be positive.\n",
            "WARNING:root:Holt-Winters failed Data must be positive.\n",
            "WARNING:root:Holt-Winters failed Data must be positive.\n",
            "WARNING:root:Holt-Winters failed Data must be positive.\n",
            "WARNING:root:Holt-Winters failed Data must be positive.\n",
            "WARNING:root:Holt-Winters failed Data must be positive.\n",
            "WARNING:root:Holt-Winters failed Data must be positive.\n",
            "WARNING:root:Holt-Winters failed Data must be positive.\n",
            "WARNING:root:Holt-Winters failed Data must be positive.\n",
            "WARNING:root:Holt-Winters failed Data must be positive.\n",
            "WARNING:root:Holt-Winters failed Data must be positive.\n"
          ]
        }
      ]
    },
    {
      "cell_type": "markdown",
      "metadata": {
        "id": "s619v08nmzEf"
      },
      "source": [
        "We can view the results as a `DataFrame` as follows, which has one row for each time series in `ts_list` and each column represents a different feature."
      ]
    },
    {
      "cell_type": "code",
      "metadata": {
        "id": "3FwgEpU2mzEg",
        "colab": {
          "base_uri": "https://localhost:8080/"
        },
        "outputId": "765e457e-107f-403c-bc57-153eff843498"
      },
      "source": [
        "df_features = pd.DataFrame(output_features) # converting to dataframe\n",
        "df_features.columns"
      ],
      "execution_count": 11,
      "outputs": [
        {
          "output_type": "execute_result",
          "data": {
            "text/plain": [
              "Index(['length', 'mean', 'var', 'entropy', 'lumpiness', 'stability',\n",
              "       'flat_spots', 'hurst', 'std1st_der', 'crossing_points', 'binarize_mean',\n",
              "       'unitroot_kpss', 'heterogeneity', 'histogram_mode', 'linearity',\n",
              "       'trend_strength', 'seasonality_strength', 'spikiness', 'peak', 'trough',\n",
              "       'level_shift_idx', 'level_shift_size', 'y_acf1', 'y_acf5',\n",
              "       'diff1y_acf1', 'diff1y_acf5', 'diff2y_acf1', 'diff2y_acf5', 'y_pacf5',\n",
              "       'diff1y_pacf5', 'diff2y_pacf5', 'seas_acf1', 'seas_pacf1',\n",
              "       'firstmin_ac', 'firstzero_ac', 'holt_alpha', 'holt_beta', 'hw_alpha',\n",
              "       'hw_beta', 'hw_gamma'],\n",
              "      dtype='object')"
            ]
          },
          "metadata": {},
          "execution_count": 11
        }
      ]
    },
    {
      "cell_type": "markdown",
      "metadata": {
        "id": "HeltGPBomzEg"
      },
      "source": [
        "Now we will take a look at some of the applications of the features we have just calculated for each each of the time series in `TsFeatures`."
      ]
    },
    {
      "cell_type": "markdown",
      "metadata": {
        "id": "dC50dYXRmzEg"
      },
      "source": [
        "### 2.1 Largest Seasonal Component\n",
        "We will demonstrate leveraging `TsFeatures` for finding the time series data with the highest seasonality strength among the simulated time series data."
      ]
    },
    {
      "cell_type": "code",
      "metadata": {
        "id": "CO_2opfvmzEg",
        "colab": {
          "base_uri": "https://localhost:8080/",
          "height": 435
        },
        "outputId": "d42048bb-18a9-4467-d915-5ba38bf2a0df"
      },
      "source": [
        "# finding the index of the time series sample with the highest seasonality strength\n",
        "index_target_ts = df_features['seasonality_strength'].argmax() \n",
        "\n",
        "target_ts = ts_list[index_target_ts] \n",
        "\n",
        "# Plot the time series\n",
        "target_ts.plot(cols=['value'])\n",
        "plt.xticks(rotation = 45)\n",
        "plt.show()"
      ],
      "execution_count": 12,
      "outputs": [
        {
          "output_type": "display_data",
          "data": {
            "image/png": "[encoded data removed]",
            "text/plain": [
              "<Figure size 720x432 with 1 Axes>"
            ]
          },
          "metadata": {}
        }
      ]
    },
    {
      "cell_type": "markdown",
      "metadata": {
        "id": "qlw0x2EvmzEh"
      },
      "source": [
        "Now let's take a look at the STL decomposition of this time series to see its seasonal component.  We use the [`STL` module from `statsmodels`](https://www.statsmodels.org/devel/generated/statsmodels.tsa.seasonal.STL.html)."
      ]
    },
    {
      "cell_type": "code",
      "metadata": {
        "id": "M7h1FzEYmzEh",
        "colab": {
          "base_uri": "https://localhost:8080/",
          "height": 329
        },
        "outputId": "85f34b22-3ce2-4682-dd06-c68ce2542e43"
      },
      "source": [
        "stl = STL(target_ts.value.values, period=7)\n",
        "res = stl.fit()\n",
        "plt.plot(\n",
        "    pd.to_datetime(target_ts.time.values),\n",
        "    res.seasonal\n",
        ")\n",
        "plt.xticks(rotation = 90);\n",
        "plt.title(f'Seasonal component - variance: {np.round(np.var(res.seasonal), 2)}');"
      ],
      "execution_count": 13,
      "outputs": [
        {
          "output_type": "display_data",
          "data": {
            "image/png": "[encoded data removed]",
            "text/plain": [
              "<Figure size 432x288 with 1 Axes>"
            ]
          },
          "metadata": {
            "needs_background": "light"
          }
        }
      ]
    },
    {
      "cell_type": "markdown",
      "metadata": {
        "id": "FVfK2QcymzEh"
      },
      "source": [
        "Now we repeat the process for the time series in `ts_list` with the smallest seasonal component.  We see that the variance of the seasonal components is much smaller in this case."
      ]
    },
    {
      "cell_type": "code",
      "metadata": {
        "id": "3xQ0cQWXmzEi",
        "colab": {
          "base_uri": "https://localhost:8080/",
          "height": 319
        },
        "outputId": "77e3d0ac-5bb4-4a83-813e-cd31fc34d4f6"
      },
      "source": [
        "# finding the index of the time series sample with the smallest seasonality strength\n",
        "index_target_ts = df_features['seasonality_strength'].argmin() \n",
        "target_ts = ts_list[index_target_ts].to_dataframe() \n",
        "\n",
        "# Do an STL decomposition and plot the results\n",
        "stl = STL(target_ts.value.values, period=7)\n",
        "res = stl.fit()\n",
        "plt.plot(\n",
        "    pd.to_datetime(target_ts.time.values),\n",
        "    res.seasonal\n",
        ")\n",
        "plt.xticks(rotation = 45);\n",
        "plt.title(f'Seasonal component - variance: {np.round(np.var(res.seasonal), 2)}');"
      ],
      "execution_count": 14,
      "outputs": [
        {
          "output_type": "display_data",
          "data": {
            "image/png": "[encoded data removed]",
            "text/plain": [
              "<Figure size 432x288 with 1 Axes>"
            ]
          },
          "metadata": {
            "needs_background": "light"
          }
        }
      ]
    },
    {
      "cell_type": "markdown",
      "metadata": {
        "id": "PpjEfT0YmzEi"
      },
      "source": [
        "### 2.2 Highest Entropy (\"Least Predictable\")\n",
        "\n",
        "We can intuitively understand entropy as the measure of the disorder of a time series.  In general, a time series with higher entropy will be harder to forecast.  Here, we show how to use `TsFeatures` to find the time series in `ts_list` with the highest entropy."
      ]
    },
    {
      "cell_type": "code",
      "metadata": {
        "id": "1s4QcPoWmzEi"
      },
      "source": [
        "# TODO: Re-run these cells once we have fixed the definition of entropy in TsFeatures."
      ],
      "execution_count": 15,
      "outputs": []
    },
    {
      "cell_type": "code",
      "metadata": {
        "id": "CsB5gLd2mzEi",
        "colab": {
          "base_uri": "https://localhost:8080/",
          "height": 435
        },
        "outputId": "0d0608a9-219f-4349-945e-62fae26d7951"
      },
      "source": [
        "# find the index of the time series sample with the highest entropy\n",
        "index_target_ts = df_features['entropy'].argmax() \n",
        "\n",
        "target_ts = ts_list[index_target_ts] \n",
        "\n",
        "# Plot the time series\n",
        "target_ts.plot(cols=['value'])\n",
        "plt.xticks(rotation = 45)\n",
        "plt.show()"
      ],
      "execution_count": 16,
      "outputs": [
        {
          "output_type": "display_data",
          "data": {
            "image/png": "[encoded data removed]",
            "text/plain": [
              "<Figure size 720x432 with 1 Axes>"
            ]
          },
          "metadata": {}
        }
      ]
    },
    {
      "cell_type": "markdown",
      "metadata": {
        "id": "EO6ncdAlmzEi"
      },
      "source": [
        "Let's compare the above figure with the time series data with the lowest entropy identified by `TsFeatures`."
      ]
    },
    {
      "cell_type": "code",
      "metadata": {
        "id": "yg3zzJ9HmzEi",
        "colab": {
          "base_uri": "https://localhost:8080/",
          "height": 435
        },
        "outputId": "20642a99-fef5-41a2-b4d3-9a6217a493f2"
      },
      "source": [
        "# find the index of the time series sample with the lowest entropy\n",
        "index_target_ts = df_features['entropy'].argmin() \n",
        "target_ts = ts_list[index_target_ts]\n",
        "\n",
        "# Plot the time series\n",
        "target_ts.plot(cols=['value'])\n",
        "plt.xticks(rotation = 45)\n",
        "plt.show()"
      ],
      "execution_count": 17,
      "outputs": [
        {
          "output_type": "display_data",
          "data": {
            "image/png": "[encoded data removed]",
            "text/plain": [
              "<Figure size 720x432 with 1 Axes>"
            ]
          },
          "metadata": {}
        }
      ]
    },
    {
      "cell_type": "markdown",
      "metadata": {
        "id": "nmAktID2mzEj"
      },
      "source": [
        "As we can see from the figures above, this second plot shows a time series with a clear change point and two distinct trends, suggesting it is easier to forecast than the first time series."
      ]
    },
    {
      "cell_type": "markdown",
      "metadata": {
        "id": "kX_dH-A0mzEj"
      },
      "source": [
        "### 2.3 Cluster Similar Time Series\n",
        "\n",
        "Here we are going to use the features we get from `TsFeatures` to try to cluster the time series.  \n",
        "\n",
        "Let's perform a dimension reduction on the simulated time series data, and visualize to see if there's clear pattern of clusters.  In this example, we pick 5 features to use for each time series, and then we use `PCA` (combined with `StandardScaler`) from `sklearn` to project this representation into two dimensions."
      ]
    },
    {
      "cell_type": "code",
      "metadata": {
        "id": "T1zpdXVamzEj"
      },
      "source": [
        "# performing dimension reduction on the time series samples\n",
        "ls_features = ['lumpiness', 'entropy', 'seasonality_strength', 'stability', 'level_shift_size']\n",
        "df_dataset = df_features[ls_features]\n",
        "x_2d = PCA(n_components=2).fit_transform(X=StandardScaler().fit_transform(df_dataset[ls_features].values))\n",
        "df_dataset['pca_component_1'] = x_2d[:,0]\n",
        "df_dataset['pca_component_2'] = x_2d[:,1]"
      ],
      "execution_count": 18,
      "outputs": []
    },
    {
      "cell_type": "markdown",
      "metadata": {
        "id": "yv8g60OpmzEj"
      },
      "source": [
        "Now we can plot the results below.  We have color-coded the different types of simulated time series (ARIMA, trend shift, level shift) and we can see that series of the same type are closer to each other.  "
      ]
    },
    {
      "cell_type": "code",
      "metadata": {
        "id": "k3bV24ZkmzEj",
        "colab": {
          "base_uri": "https://localhost:8080/",
          "height": 313
        },
        "outputId": "e0e4dd7d-2d10-469a-bad2-0720c7752053"
      },
      "source": [
        "# Plot the PCA projections of each time series\n",
        "plt.figure(figsize = (15,8))\n",
        "# Plot ARIMA time series in red\n",
        "ax = df_dataset.iloc[0:10].plot(x='pca_component_1', y='pca_component_2', kind='scatter', color='red')\n",
        "# Plot trend shift time series in green\n",
        "df_dataset.iloc[10:20].plot(x='pca_component_1', y='pca_component_2', kind='scatter', color='green', ax=ax)\n",
        "# Plot level shift time series in yellow\n",
        "df_dataset.iloc[20:].plot(x='pca_component_1', y='pca_component_2', kind='scatter', color='yellow', ax=ax)\n",
        "\n",
        "plt.title('Visualization of the dimension reduced time series samples')\n",
        "plt.legend(['ARIMA', 'Trend Shift', 'Level Shift'])\n",
        "plt.show()"
      ],
      "execution_count": 19,
      "outputs": [
        {
          "output_type": "display_data",
          "data": {
            "text/plain": [
              "<Figure size 1080x576 with 0 Axes>"
            ]
          },
          "metadata": {}
        },
        {
          "output_type": "display_data",
          "data": {
            "image/png": "[encoded data removed]",
            "text/plain": [
              "<Figure size 432x288 with 1 Axes>"
            ]
          },
          "metadata": {
            "needs_background": "light"
          }
        }
      ]
    },
    {
      "cell_type": "markdown",
      "metadata": {
        "id": "PWyZ5KnAmzEj"
      },
      "source": [
        "## 3. Out-in/out features for calculation\n",
        "\n",
        "In `TsFeatures`, you can choose which features and feature groups you would like to calculate and which you would like to skip.  "
      ]
    },
    {
      "cell_type": "markdown",
      "metadata": {
        "id": "WMQ-L_VfmzEk"
      },
      "source": [
        "### 3.1 Opting-out features"
      ]
    },
    {
      "cell_type": "markdown",
      "metadata": {
        "id": "kVd-OZzEmzEk"
      },
      "source": [
        "Let's start by returning to our initial example, where we calculated the first time series in `ts_list`.  This calculates the 40 features that we calculate by default."
      ]
    },
    {
      "cell_type": "code",
      "metadata": {
        "colab": {
          "base_uri": "https://localhost:8080/",
          "height": 419
        },
        "id": "AYHLxirx6XA9",
        "outputId": "c82c96c1-c1db-4b08-d331-5f86694ef27e"
      },
      "source": [
        "ts_list[0]"
      ],
      "execution_count": 20,
      "outputs": [
        {
          "output_type": "execute_result",
          "data": {
            "text/html": [
              "<div>\n",
              "<style scoped>\n",
              "    .dataframe tbody tr th:only-of-type {\n",
              "        vertical-align: middle;\n",
              "    }\n",
              "\n",
              "    .dataframe tbody tr th {\n",
              "        vertical-align: top;\n",
              "    }\n",
              "\n",
              "    .dataframe thead th {\n",
              "        text-align: right;\n",
              "    }\n",
              "</style>\n",
              "<table border=\"1\" class=\"dataframe\">\n",
              "  <thead>\n",
              "    <tr style=\"text-align: right;\">\n",
              "      <th></th>\n",
              "      <th>time</th>\n",
              "      <th>value</th>\n",
              "    </tr>\n",
              "  </thead>\n",
              "  <tbody>\n",
              "    <tr>\n",
              "      <th>0</th>\n",
              "      <td>2021-01-01</td>\n",
              "      <td>0.797342</td>\n",
              "    </tr>\n",
              "    <tr>\n",
              "      <th>1</th>\n",
              "      <td>2021-01-02</td>\n",
              "      <td>1.494317</td>\n",
              "    </tr>\n",
              "    <tr>\n",
              "      <th>2</th>\n",
              "      <td>2021-01-03</td>\n",
              "      <td>1.608064</td>\n",
              "    </tr>\n",
              "    <tr>\n",
              "      <th>3</th>\n",
              "      <td>2021-01-04</td>\n",
              "      <td>1.186103</td>\n",
              "    </tr>\n",
              "    <tr>\n",
              "      <th>4</th>\n",
              "      <td>2021-01-05</td>\n",
              "      <td>2.147635</td>\n",
              "    </tr>\n",
              "    <tr>\n",
              "      <th>...</th>\n",
              "      <td>...</td>\n",
              "      <td>...</td>\n",
              "    </tr>\n",
              "    <tr>\n",
              "      <th>85</th>\n",
              "      <td>2021-03-27</td>\n",
              "      <td>-10.164849</td>\n",
              "    </tr>\n",
              "    <tr>\n",
              "      <th>86</th>\n",
              "      <td>2021-03-28</td>\n",
              "      <td>-12.674870</td>\n",
              "    </tr>\n",
              "    <tr>\n",
              "      <th>87</th>\n",
              "      <td>2021-03-29</td>\n",
              "      <td>-14.757363</td>\n",
              "    </tr>\n",
              "    <tr>\n",
              "      <th>88</th>\n",
              "      <td>2021-03-30</td>\n",
              "      <td>-16.544275</td>\n",
              "    </tr>\n",
              "    <tr>\n",
              "      <th>89</th>\n",
              "      <td>2021-03-31</td>\n",
              "      <td>-20.016322</td>\n",
              "    </tr>\n",
              "  </tbody>\n",
              "</table>\n",
              "<p>90 rows × 2 columns</p>\n",
              "</div>"
            ],
            "text/plain": [
              "         time      value\n",
              "0  2021-01-01   0.797342\n",
              "1  2021-01-02   1.494317\n",
              "2  2021-01-03   1.608064\n",
              "3  2021-01-04   1.186103\n",
              "4  2021-01-05   2.147635\n",
              "..        ...        ...\n",
              "85 2021-03-27 -10.164849\n",
              "86 2021-03-28 -12.674870\n",
              "87 2021-03-29 -14.757363\n",
              "88 2021-03-30 -16.544275\n",
              "89 2021-03-31 -20.016322\n",
              "\n",
              "[90 rows x 2 columns]"
            ]
          },
          "metadata": {},
          "execution_count": 20
        }
      ]
    },
    {
      "cell_type": "code",
      "metadata": {
        "id": "gtoBqPgQmzEk",
        "colab": {
          "base_uri": "https://localhost:8080/"
        },
        "outputId": "fb0e8840-d317-4299-e54e-ed2a7e41a341"
      },
      "source": [
        "ts = ts_list[0]\n",
        "TsFeatures().transform(ts)"
      ],
      "execution_count": 21,
      "outputs": [
        {
          "output_type": "stream",
          "name": "stderr",
          "text": [
            "WARNING:root:Holt-Winters failed Data must be positive.\n"
          ]
        },
        {
          "output_type": "execute_result",
          "data": {
            "text/plain": [
              "{'binarize_mean': 0.43333333333333335,\n",
              " 'crossing_points': 5,\n",
              " 'diff1y_acf1': 0.18302337359382667,\n",
              " 'diff1y_acf5': 0.07947604177686789,\n",
              " 'diff1y_pacf5': 0.0798179214470633,\n",
              " 'diff2y_acf1': -0.4816907863327952,\n",
              " 'diff2y_acf5': 0.244768248661085,\n",
              " 'diff2y_pacf5': 0.36145785941160097,\n",
              " 'entropy': 0.2742447620827894,\n",
              " 'firstmin_ac': 53,\n",
              " 'firstzero_ac': 30,\n",
              " 'flat_spots': 1,\n",
              " 'heterogeneity': 73.29527168434541,\n",
              " 'histogram_mode': -11.841676172131818,\n",
              " 'holt_alpha': 0.9999999850988388,\n",
              " 'holt_beta': 0.1365684793190549,\n",
              " 'hurst': 0.41884368965647256,\n",
              " 'hw_alpha': nan,\n",
              " 'hw_beta': nan,\n",
              " 'hw_gamma': nan,\n",
              " 'length': 90,\n",
              " 'level_shift_idx': 23,\n",
              " 'level_shift_size': 0.7134342301151566,\n",
              " 'linearity': 0.8346355269096618,\n",
              " 'lumpiness': 10.258210327109449,\n",
              " 'mean': -4.973228083549793,\n",
              " 'peak': 1,\n",
              " 'seas_acf1': 0.8149983814152568,\n",
              " 'seas_pacf1': 0.030344962550474423,\n",
              " 'seasonality_strength': 0.3521955818150291,\n",
              " 'spikiness': 0.00020455870537077657,\n",
              " 'stability': 45.07760417461487,\n",
              " 'std1st_der': 0.8773588739369633,\n",
              " 'trend_strength': 0.9853025999592567,\n",
              " 'trough': 6,\n",
              " 'unitroot_kpss': 0.41641147078333146,\n",
              " 'var': 50.69499812650379,\n",
              " 'y_acf1': 0.9597578784708428,\n",
              " 'y_acf5': 4.0361834721280365,\n",
              " 'y_pacf5': 0.9862593061001356}"
            ]
          },
          "metadata": {},
          "execution_count": 21
        }
      ]
    },
    {
      "cell_type": "markdown",
      "metadata": {
        "id": "Mwjviwq0mzEk"
      },
      "source": [
        "We can omit a single feature, like `seasonality_strength`, by passing `seasonality_strength=False` into `TsFeatures` like such."
      ]
    },
    {
      "cell_type": "code",
      "metadata": {
        "id": "G0hzpX0xmzEk",
        "colab": {
          "base_uri": "https://localhost:8080/"
        },
        "outputId": "10826e39-c53c-4a8b-a2ce-395568b2d6d9"
      },
      "source": [
        "TsFeatures(seasonality_strength=False).transform(ts)"
      ],
      "execution_count": 22,
      "outputs": [
        {
          "output_type": "stream",
          "name": "stderr",
          "text": [
            "WARNING:root:Holt-Winters failed Data must be positive.\n"
          ]
        },
        {
          "output_type": "execute_result",
          "data": {
            "text/plain": [
              "{'binarize_mean': 0.43333333333333335,\n",
              " 'crossing_points': 5,\n",
              " 'diff1y_acf1': 0.18302337359382667,\n",
              " 'diff1y_acf5': 0.07947604177686789,\n",
              " 'diff1y_pacf5': 0.0798179214470633,\n",
              " 'diff2y_acf1': -0.4816907863327952,\n",
              " 'diff2y_acf5': 0.244768248661085,\n",
              " 'diff2y_pacf5': 0.36145785941160097,\n",
              " 'entropy': 0.2742447620827894,\n",
              " 'firstmin_ac': 53,\n",
              " 'firstzero_ac': 30,\n",
              " 'flat_spots': 1,\n",
              " 'heterogeneity': 73.29527168434541,\n",
              " 'histogram_mode': -11.841676172131818,\n",
              " 'holt_alpha': 0.9999999850988388,\n",
              " 'holt_beta': 0.1365684793190549,\n",
              " 'hurst': 0.41884368965647256,\n",
              " 'hw_alpha': nan,\n",
              " 'hw_beta': nan,\n",
              " 'hw_gamma': nan,\n",
              " 'length': 90,\n",
              " 'level_shift_idx': 23,\n",
              " 'level_shift_size': 0.7134342301151566,\n",
              " 'linearity': 0.8346355269096618,\n",
              " 'lumpiness': 10.258210327109449,\n",
              " 'mean': -4.973228083549793,\n",
              " 'peak': 1,\n",
              " 'seas_acf1': 0.8149983814152568,\n",
              " 'seas_pacf1': 0.030344962550474423,\n",
              " 'spikiness': 0.00020455870537077657,\n",
              " 'stability': 45.07760417461487,\n",
              " 'std1st_der': 0.8773588739369633,\n",
              " 'trend_strength': 0.9853025999592567,\n",
              " 'trough': 6,\n",
              " 'unitroot_kpss': 0.41641147078333146,\n",
              " 'var': 50.69499812650379,\n",
              " 'y_acf1': 0.9597578784708428,\n",
              " 'y_acf5': 4.0361834721280365,\n",
              " 'y_pacf5': 0.9862593061001356}"
            ]
          },
          "metadata": {},
          "execution_count": 22
        }
      ]
    },
    {
      "cell_type": "markdown",
      "metadata": {
        "id": "DHYH7yMTmzEk"
      },
      "source": [
        "The `seasonality_strength` feature belongs to the 'stl_features' feature group.  Each of the 68 features that we currently support in `TsFeatures` are arranged into 14 feature groups.  Below is the dictionary displaying the mapping feature feature groups and features."
      ]
    },
    {
      "cell_type": "code",
      "metadata": {
        "id": "7O3PdkgAmzEl",
        "colab": {
          "base_uri": "https://localhost:8080/"
        },
        "outputId": "a3b64cc1-a98e-4ff2-e1cd-38ffb75aae25"
      },
      "source": [
        "feature_group_mapping = TsFeatures().feature_group_mapping\n",
        "pprint.pprint(feature_group_mapping)"
      ],
      "execution_count": 23,
      "outputs": [
        {
          "output_type": "stream",
          "name": "stdout",
          "text": [
            "{'acfpacf_features': ['y_acf1',\n",
            "                      'y_acf5',\n",
            "                      'diff1y_acf1',\n",
            "                      'diff1y_acf5',\n",
            "                      'diff2y_acf1',\n",
            "                      'diff2y_acf5',\n",
            "                      'y_pacf5',\n",
            "                      'diff1y_pacf5',\n",
            "                      'diff2y_pacf5',\n",
            "                      'seas_acf1',\n",
            "                      'seas_pacf1'],\n",
            " 'bocp_detector': ['bocp_num', 'bocp_conf_max', 'bocp_conf_mean'],\n",
            " 'cusum_detector': ['cusum_num',\n",
            "                    'cusum_conf',\n",
            "                    'cusum_cp_index',\n",
            "                    'cusum_delta',\n",
            "                    'cusum_llr',\n",
            "                    'cusum_regression_detected',\n",
            "                    'cusum_stable_changepoint',\n",
            "                    'cusum_p_value'],\n",
            " 'holt_params': ['holt_alpha', 'holt_beta'],\n",
            " 'hw_params': ['hw_alpha', 'hw_beta', 'hw_gamma'],\n",
            " 'level_shift_features': ['level_shift_idx', 'level_shift_size'],\n",
            " 'nowcasting': ['nowcast_roc',\n",
            "                'nowcast_ma',\n",
            "                'nowcast_mom',\n",
            "                'nowcast_lag',\n",
            "                'nowcast_macd',\n",
            "                'nowcast_macdsign',\n",
            "                'nowcast_macddiff'],\n",
            " 'outlier_detector': ['outlier_num'],\n",
            " 'robust_stat_detector': ['robust_num', 'robust_metric_mean'],\n",
            " 'seasonalities': ['seasonal_period',\n",
            "                   'trend_mag',\n",
            "                   'seasonality_mag',\n",
            "                   'residual_std'],\n",
            " 'special_ac': ['firstmin_ac', 'firstzero_ac'],\n",
            " 'statistics': ['length',\n",
            "                'mean',\n",
            "                'var',\n",
            "                'entropy',\n",
            "                'lumpiness',\n",
            "                'stability',\n",
            "                'flat_spots',\n",
            "                'hurst',\n",
            "                'std1st_der',\n",
            "                'crossing_points',\n",
            "                'binarize_mean',\n",
            "                'unitroot_kpss',\n",
            "                'heterogeneity',\n",
            "                'histogram_mode',\n",
            "                'linearity'],\n",
            " 'stl_features': ['trend_strength',\n",
            "                  'seasonality_strength',\n",
            "                  'spikiness',\n",
            "                  'peak',\n",
            "                  'trough'],\n",
            " 'time': ['time_years',\n",
            "          'time_months',\n",
            "          'time_monthsofyear',\n",
            "          'time_weeks',\n",
            "          'time_weeksofyear',\n",
            "          'time_days',\n",
            "          'time_daysofyear',\n",
            "          'time_avg_timezone_offset',\n",
            "          'time_length_days',\n",
            "          'time_freq_Monday',\n",
            "          'time_freq_Tuesday',\n",
            "          'time_freq_Wednesday',\n",
            "          'time_freq_Thursday',\n",
            "          'time_freq_Friday',\n",
            "          'time_freq_Saturday',\n",
            "          'time_freq_Sunday'],\n",
            " 'trend_detector': ['trend_num', 'trend_num_increasing', 'trend_avg_abs_tau']}\n"
          ]
        }
      ]
    },
    {
      "cell_type": "markdown",
      "metadata": {
        "id": "fngtKax7mzEl"
      },
      "source": [
        "We can opt to skip the calculation of an entire feature group like `stl_features` the same way we skipped the calculation of `seasonality_strength` in the example above."
      ]
    },
    {
      "cell_type": "code",
      "metadata": {
        "id": "m789S0nUmzEl",
        "colab": {
          "base_uri": "https://localhost:8080/"
        },
        "outputId": "1d3a8754-3c7a-4a59-c800-a71e22c8408e"
      },
      "source": [
        "TsFeatures(stl_features=False).transform(ts)"
      ],
      "execution_count": 24,
      "outputs": [
        {
          "output_type": "stream",
          "name": "stderr",
          "text": [
            "WARNING:root:Holt-Winters failed Data must be positive.\n"
          ]
        },
        {
          "output_type": "execute_result",
          "data": {
            "text/plain": [
              "{'binarize_mean': 0.43333333333333335,\n",
              " 'crossing_points': 5,\n",
              " 'diff1y_acf1': 0.18302337359382667,\n",
              " 'diff1y_acf5': 0.07947604177686789,\n",
              " 'diff1y_pacf5': 0.0798179214470633,\n",
              " 'diff2y_acf1': -0.4816907863327952,\n",
              " 'diff2y_acf5': 0.244768248661085,\n",
              " 'diff2y_pacf5': 0.36145785941160097,\n",
              " 'entropy': 0.2742447620827894,\n",
              " 'firstmin_ac': 53,\n",
              " 'firstzero_ac': 30,\n",
              " 'flat_spots': 1,\n",
              " 'heterogeneity': 73.29527168434541,\n",
              " 'histogram_mode': -11.841676172131818,\n",
              " 'holt_alpha': 0.9999999850988388,\n",
              " 'holt_beta': 0.1365684793190549,\n",
              " 'hurst': 0.41884368965647256,\n",
              " 'hw_alpha': nan,\n",
              " 'hw_beta': nan,\n",
              " 'hw_gamma': nan,\n",
              " 'length': 90,\n",
              " 'level_shift_idx': 23,\n",
              " 'level_shift_size': 0.7134342301151566,\n",
              " 'linearity': 0.8346355269096618,\n",
              " 'lumpiness': 10.258210327109449,\n",
              " 'mean': -4.973228083549793,\n",
              " 'seas_acf1': 0.8149983814152568,\n",
              " 'seas_pacf1': 0.030344962550474423,\n",
              " 'stability': 45.07760417461487,\n",
              " 'std1st_der': 0.8773588739369633,\n",
              " 'unitroot_kpss': 0.41641147078333146,\n",
              " 'var': 50.69499812650379,\n",
              " 'y_acf1': 0.9597578784708428,\n",
              " 'y_acf5': 4.0361834721280365,\n",
              " 'y_pacf5': 0.9862593061001356}"
            ]
          },
          "metadata": {},
          "execution_count": 24
        }
      ]
    },
    {
      "cell_type": "markdown",
      "metadata": {
        "id": "_vOBAct-mzEl"
      },
      "source": [
        "We can also opt-out combinations of features and feature groups like su"
      ]
    },
    {
      "cell_type": "code",
      "metadata": {
        "id": "JXzI2cjamzEl",
        "colab": {
          "base_uri": "https://localhost:8080/"
        },
        "outputId": "bada7be4-8a97-4228-b272-d73c10cae54a"
      },
      "source": [
        "tsf = TsFeatures(length = False, mean = False, stl_features=False)\n",
        "tsf.transform(ts)"
      ],
      "execution_count": 25,
      "outputs": [
        {
          "output_type": "stream",
          "name": "stderr",
          "text": [
            "WARNING:root:Holt-Winters failed Data must be positive.\n"
          ]
        },
        {
          "output_type": "execute_result",
          "data": {
            "text/plain": [
              "{'binarize_mean': 0.43333333333333335,\n",
              " 'crossing_points': 5,\n",
              " 'diff1y_acf1': 0.18302337359382667,\n",
              " 'diff1y_acf5': 0.07947604177686789,\n",
              " 'diff1y_pacf5': 0.0798179214470633,\n",
              " 'diff2y_acf1': -0.4816907863327952,\n",
              " 'diff2y_acf5': 0.244768248661085,\n",
              " 'diff2y_pacf5': 0.36145785941160097,\n",
              " 'entropy': 0.2742447620827894,\n",
              " 'firstmin_ac': 53,\n",
              " 'firstzero_ac': 30,\n",
              " 'flat_spots': 1,\n",
              " 'heterogeneity': 73.29527168434541,\n",
              " 'histogram_mode': -11.841676172131818,\n",
              " 'holt_alpha': 0.9999999850988388,\n",
              " 'holt_beta': 0.1365684793190549,\n",
              " 'hurst': 0.41884368965647256,\n",
              " 'hw_alpha': nan,\n",
              " 'hw_beta': nan,\n",
              " 'hw_gamma': nan,\n",
              " 'level_shift_idx': 23,\n",
              " 'level_shift_size': 0.7134342301151566,\n",
              " 'linearity': 0.8346355269096618,\n",
              " 'lumpiness': 10.258210327109449,\n",
              " 'seas_acf1': 0.8149983814152568,\n",
              " 'seas_pacf1': 0.030344962550474423,\n",
              " 'stability': 45.07760417461487,\n",
              " 'std1st_der': 0.8773588739369633,\n",
              " 'unitroot_kpss': 0.41641147078333146,\n",
              " 'var': 50.69499812650379,\n",
              " 'y_acf1': 0.9597578784708428,\n",
              " 'y_acf5': 4.0361834721280365,\n",
              " 'y_pacf5': 0.9862593061001356}"
            ]
          },
          "metadata": {},
          "execution_count": 25
        }
      ]
    },
    {
      "cell_type": "markdown",
      "metadata": {
        "id": "TFM_I_3xmzEl"
      },
      "source": [
        "### 3.2 Opting-in features"
      ]
    },
    {
      "cell_type": "markdown",
      "metadata": {
        "id": "hYuOx_z5mzEl"
      },
      "source": [
        "We can use the `selected_features` argument in `TsFeatures` to specify which features and feature groups we would like to include in our calculations.  When we use this argument, a default feature will not be included unless that feature or its group is explicited included in `selected_features`.  Similarly, a feature not included by default can be included by including it or its group in `selected_features`."
      ]
    },
    {
      "cell_type": "markdown",
      "metadata": {
        "id": "8yPfeT9wmzEl"
      },
      "source": [
        "Here is an example where we specify a list of features to calculate."
      ]
    },
    {
      "cell_type": "code",
      "metadata": {
        "id": "_djDoYGumzEm",
        "colab": {
          "base_uri": "https://localhost:8080/"
        },
        "outputId": "38e7dab0-2719-4a76-f8d7-65bf296cd646"
      },
      "source": [
        "TsFeatures(selected_features = [\n",
        "    'mean',\n",
        "    'var',\n",
        "    'entropy',\n",
        "    'lumpiness',\n",
        "    'hurst',\n",
        "    'trend_strength',\n",
        "    'y_acf1',\n",
        "    'firstmin_ac',\n",
        "    'holt_alpha',\n",
        "    'nowcast_roc',\n",
        "    'bocp_num',\n",
        "    'seasonality_mag',\n",
        "]).transform(ts)"
      ],
      "execution_count": 26,
      "outputs": [
        {
          "output_type": "execute_result",
          "data": {
            "text/plain": [
              "{'bocp_num': 2,\n",
              " 'entropy': 0.2742447620827894,\n",
              " 'firstmin_ac': 53,\n",
              " 'holt_alpha': 0.9999999850988388,\n",
              " 'hurst': 0.41884368965647256,\n",
              " 'lumpiness': 10.258210327109449,\n",
              " 'mean': -4.973228083549793,\n",
              " 'nowcast_roc': 0.05212172487338157,\n",
              " 'seasonality_mag': 1.0,\n",
              " 'trend_strength': 0.9853025999592567,\n",
              " 'var': 50.69499812650379,\n",
              " 'y_acf1': 0.9597578784708428}"
            ]
          },
          "metadata": {},
          "execution_count": 26
        }
      ]
    },
    {
      "cell_type": "markdown",
      "metadata": {
        "id": "IAKmBX6umzEm"
      },
      "source": [
        "Here is an example where we specify a list of features groups to calculate."
      ]
    },
    {
      "cell_type": "code",
      "metadata": {
        "id": "dX2-iYqemzEm",
        "colab": {
          "base_uri": "https://localhost:8080/"
        },
        "outputId": "c48e0c4d-73f6-4ff2-8ede-9aa88527daec"
      },
      "source": [
        "TsFeatures(selected_features = [\n",
        "    'statistics',\n",
        "    'acfpacf_features',\n",
        "    'nowcasting',\n",
        "]).transform(ts)"
      ],
      "execution_count": 27,
      "outputs": [
        {
          "output_type": "execute_result",
          "data": {
            "text/plain": [
              "{'binarize_mean': 0.43333333333333335,\n",
              " 'crossing_points': 5,\n",
              " 'diff1y_acf1': 0.18302337359382667,\n",
              " 'diff1y_acf5': 0.07947604177686789,\n",
              " 'diff1y_pacf5': 0.0798179214470633,\n",
              " 'diff2y_acf1': -0.4816907863327952,\n",
              " 'diff2y_acf5': 0.244768248661085,\n",
              " 'diff2y_pacf5': 0.36145785941160097,\n",
              " 'entropy': 0.2742447620827894,\n",
              " 'flat_spots': 1,\n",
              " 'heterogeneity': 73.29527168434541,\n",
              " 'histogram_mode': -11.841676172131818,\n",
              " 'hurst': 0.41884368965647256,\n",
              " 'length': 90,\n",
              " 'linearity': 0.8346355269096618,\n",
              " 'lumpiness': 10.258210327109449,\n",
              " 'mean': -4.973228083549793,\n",
              " 'nowcast_lag': -4.393327628568679,\n",
              " 'nowcast_ma': -4.832882514728335,\n",
              " 'nowcast_macd': -0.9380868822690638,\n",
              " 'nowcast_macddiff': -0.04975036556381405,\n",
              " 'nowcast_macdsign': -1.0413322101367146,\n",
              " 'nowcast_mom': -0.9575428298227386,\n",
              " 'nowcast_roc': 0.05212172487338157,\n",
              " 'seas_acf1': 0.8149983814152568,\n",
              " 'seas_pacf1': 0.030344962550474423,\n",
              " 'stability': 45.07760417461487,\n",
              " 'std1st_der': 0.8773588739369633,\n",
              " 'unitroot_kpss': 0.41641147078333146,\n",
              " 'var': 50.69499812650379,\n",
              " 'y_acf1': 0.9597578784708428,\n",
              " 'y_acf5': 4.0361834721280365,\n",
              " 'y_pacf5': 0.9862593061001356}"
            ]
          },
          "metadata": {},
          "execution_count": 27
        }
      ]
    },
    {
      "cell_type": "markdown",
      "metadata": {
        "id": "OtNQOJz1mzEm"
      },
      "source": [
        "We can specify a combination of features and feature groups to calculate:"
      ]
    },
    {
      "cell_type": "code",
      "metadata": {
        "id": "amQYdD26mzEm",
        "colab": {
          "base_uri": "https://localhost:8080/"
        },
        "outputId": "016f3ca6-fc24-4f35-ff47-6fe5b035e737"
      },
      "source": [
        "TsFeatures(selected_features = [\n",
        "    'statistics',\n",
        "    'acfpacf_features',\n",
        "    'nowcasting',\n",
        "    'seasonality_strength',\n",
        "]).transform(ts)"
      ],
      "execution_count": 28,
      "outputs": [
        {
          "output_type": "execute_result",
          "data": {
            "text/plain": [
              "{'binarize_mean': 0.43333333333333335,\n",
              " 'crossing_points': 5,\n",
              " 'diff1y_acf1': 0.18302337359382667,\n",
              " 'diff1y_acf5': 0.07947604177686789,\n",
              " 'diff1y_pacf5': 0.0798179214470633,\n",
              " 'diff2y_acf1': -0.4816907863327952,\n",
              " 'diff2y_acf5': 0.244768248661085,\n",
              " 'diff2y_pacf5': 0.36145785941160097,\n",
              " 'entropy': 0.2742447620827894,\n",
              " 'flat_spots': 1,\n",
              " 'heterogeneity': 73.29527168434541,\n",
              " 'histogram_mode': -11.841676172131818,\n",
              " 'hurst': 0.41884368965647256,\n",
              " 'length': 90,\n",
              " 'linearity': 0.8346355269096618,\n",
              " 'lumpiness': 10.258210327109449,\n",
              " 'mean': -4.973228083549793,\n",
              " 'nowcast_lag': -4.393327628568679,\n",
              " 'nowcast_ma': -4.832882514728335,\n",
              " 'nowcast_macd': -0.9380868822690638,\n",
              " 'nowcast_macddiff': -0.04975036556381405,\n",
              " 'nowcast_macdsign': -1.0413322101367146,\n",
              " 'nowcast_mom': -0.9575428298227386,\n",
              " 'nowcast_roc': 0.05212172487338157,\n",
              " 'seas_acf1': 0.8149983814152568,\n",
              " 'seas_pacf1': 0.030344962550474423,\n",
              " 'seasonality_strength': 0.3521955818150291,\n",
              " 'stability': 45.07760417461487,\n",
              " 'std1st_der': 0.8773588739369633,\n",
              " 'unitroot_kpss': 0.41641147078333146,\n",
              " 'var': 50.69499812650379,\n",
              " 'y_acf1': 0.9597578784708428,\n",
              " 'y_acf5': 4.0361834721280365,\n",
              " 'y_pacf5': 0.9862593061001356}"
            ]
          },
          "metadata": {},
          "execution_count": 28
        }
      ]
    },
    {
      "cell_type": "markdown",
      "metadata": {
        "id": "O_dfdpSjmzEm"
      },
      "source": [
        "Lastly, we can mix up the opt-in and opt-out to calculate majority of the features among some feature groups, while opting-out some of the features within these feature groups that are opt-in.\n",
        "\n",
        "We can also opt-out specific features from the feature groups we include in `selected_features`.  Here is an example where we calculate all of the features in the `statistics` group except for the `mean`."
      ]
    },
    {
      "cell_type": "code",
      "metadata": {
        "id": "hFqcrUjVmzEm",
        "colab": {
          "base_uri": "https://localhost:8080/"
        },
        "outputId": "29edaa90-8dfd-46e8-859c-e5b8ed343a00"
      },
      "source": [
        "TsFeatures(selected_features = ['statistics'], mean = False).transform(ts)"
      ],
      "execution_count": 29,
      "outputs": [
        {
          "output_type": "execute_result",
          "data": {
            "text/plain": [
              "{'binarize_mean': 0.43333333333333335,\n",
              " 'crossing_points': 5,\n",
              " 'entropy': 0.2742447620827894,\n",
              " 'flat_spots': 1,\n",
              " 'heterogeneity': 73.29527168434541,\n",
              " 'histogram_mode': -11.841676172131818,\n",
              " 'hurst': 0.41884368965647256,\n",
              " 'length': 90,\n",
              " 'linearity': 0.8346355269096618,\n",
              " 'lumpiness': 10.258210327109449,\n",
              " 'stability': 45.07760417461487,\n",
              " 'std1st_der': 0.8773588739369633,\n",
              " 'unitroot_kpss': 0.41641147078333146,\n",
              " 'var': 50.69499812650379}"
            ]
          },
          "metadata": {},
          "execution_count": 29
        }
      ]
    },
    {
      "cell_type": "markdown",
      "metadata": {
        "id": "ZL4dRlYUmzEm"
      },
      "source": [
        "If we include the name of a specific feature in `selected_features` and then try to opt-out that same feature or its feature group, we will get an error.  For example, the inverse of our previous example doesn't work."
      ]
    },
    {
      "cell_type": "code",
      "metadata": {
        "id": "kD3kqGwAmzEm"
      },
      "source": [
        "# THIS DOES NOT WORK\n",
        "# TsFeatures(selected_features = ['mean'], statitics = False).transform(ts)\n",
        "\n",
        "# THIS ALSO DOES NOT WORK\n",
        "# TsFeatures(selected_features = ['mean'], mean = False).transform(ts)"
      ],
      "execution_count": 30,
      "outputs": []
    },
    {
      "cell_type": "markdown",
      "metadata": {
        "id": "lUCHeiBpmzEn"
      },
      "source": [
        "## Conclusion\n",
        "\n",
        "In this tutorial, we've demonstrated basic functions of `TsFeatures`, along with the demonstration of some of the interesting applications. We hope you've enjoyed the tutorial and look forward to using `TsFeatures` in the future!"
      ]
    }
  ]
}